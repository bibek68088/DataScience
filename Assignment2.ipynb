{
 "cells": [
  {
   "cell_type": "markdown",
   "id": "c3d754f5-d49d-401f-93f5-c4ce03a2f88d",
   "metadata": {},
   "source": [
    "### 1. Array Creation"
   ]
  },
  {
   "cell_type": "markdown",
   "id": "20c104af-0f84-48cc-b15b-44e5a467b1d2",
   "metadata": {},
   "source": [
    "1.1 Create a 1-dimensional array of integers from 1 to 10."
   ]
  },
  {
   "cell_type": "code",
   "execution_count": 1,
   "id": "95ee601a-8b5d-460f-b34c-baa3eccad078",
   "metadata": {},
   "outputs": [],
   "source": [
    "import numpy as np"
   ]
  },
  {
   "cell_type": "code",
   "execution_count": 4,
   "id": "22e9ff70-c151-4e47-b6c6-b87a66d83e5b",
   "metadata": {},
   "outputs": [
    {
     "data": {
      "text/plain": [
       "array([ 1,  2,  3,  4,  5,  6,  7,  8,  9, 10])"
      ]
     },
     "execution_count": 4,
     "metadata": {},
     "output_type": "execute_result"
    }
   ],
   "source": [
    "oneD_array = np.array(range(1,11))\n",
    "oneD_array"
   ]
  },
  {
   "cell_type": "markdown",
   "id": "d2c4ba74-798f-43a3-93bc-e9647a8f38a7",
   "metadata": {},
   "source": [
    "1.2 Create a 2-dimensional array with random float values of shape (3, 4)."
   ]
  },
  {
   "cell_type": "code",
   "execution_count": 7,
   "id": "cbdb8a4a-db56-4508-ae72-f8021494547b",
   "metadata": {},
   "outputs": [
    {
     "data": {
      "text/plain": [
       "array([[0.89886504, 0.61365632, 0.29007076, 0.54069342],\n",
       "       [0.86757533, 0.7178239 , 0.38437153, 0.56131151],\n",
       "       [0.77628079, 0.86102461, 0.24389747, 0.88760232]])"
      ]
     },
     "execution_count": 7,
     "metadata": {},
     "output_type": "execute_result"
    }
   ],
   "source": [
    "twoD_array = np.random.rand(3,4)\n",
    "twoD_array"
   ]
  },
  {
   "cell_type": "code",
   "execution_count": 8,
   "id": "226a2d57-c8b1-4a49-b0fc-d149c88530d6",
   "metadata": {},
   "outputs": [
    {
     "data": {
      "text/plain": [
       "(3, 4)"
      ]
     },
     "execution_count": 8,
     "metadata": {},
     "output_type": "execute_result"
    }
   ],
   "source": [
    "twoD_array.shape"
   ]
  },
  {
   "cell_type": "markdown",
   "id": "fafc889b-3536-41ff-bfef-19d0bb5db517",
   "metadata": {},
   "source": [
    "1.3 Create a 3-dimensional array of zeros with shape (2,3,4)"
   ]
  },
  {
   "cell_type": "code",
   "execution_count": 9,
   "id": "9ab524b7-13d3-4d2b-a410-6689569904bf",
   "metadata": {},
   "outputs": [
    {
     "data": {
      "text/plain": [
       "array([[[0., 0., 0., 0.],\n",
       "        [0., 0., 0., 0.],\n",
       "        [0., 0., 0., 0.]],\n",
       "\n",
       "       [[0., 0., 0., 0.],\n",
       "        [0., 0., 0., 0.],\n",
       "        [0., 0., 0., 0.]]])"
      ]
     },
     "execution_count": 9,
     "metadata": {},
     "output_type": "execute_result"
    }
   ],
   "source": [
    "threeD_array = np.zeros((2,3,4))\n",
    "threeD_array"
   ]
  },
  {
   "cell_type": "code",
   "execution_count": 10,
   "id": "fc305c14-bc7f-4440-8261-6ce86159f30d",
   "metadata": {},
   "outputs": [
    {
     "data": {
      "text/plain": [
       "(2, 3, 4)"
      ]
     },
     "execution_count": 10,
     "metadata": {},
     "output_type": "execute_result"
    }
   ],
   "source": [
    "threeD_array.shape"
   ]
  },
  {
   "cell_type": "markdown",
   "id": "e7f797ce-d127-45c9-932b-d0e64a21be2b",
   "metadata": {},
   "source": [
    "### 2. Array Operations"
   ]
  },
  {
   "cell_type": "markdown",
   "id": "d813aeb9-4991-461c-8411-ba2f9e86b553",
   "metadata": {},
   "source": [
    "2.1 Given two 1-dimensional arrays, perform element-wise addition,\r\n",
    "subtraction, multiplication, and division."
   ]
  },
  {
   "cell_type": "code",
   "execution_count": 3,
   "id": "9131dde2-5730-44cf-b6b7-8c25eb515a58",
   "metadata": {},
   "outputs": [],
   "source": [
    "import numpy as np\n",
    "array_1 = np.array([7,3,9])"
   ]
  },
  {
   "cell_type": "code",
   "execution_count": 4,
   "id": "4a62efaf-9ecc-4e74-a0f0-375411683c3a",
   "metadata": {},
   "outputs": [],
   "source": [
    "array_2 = np.array([5,2,8])"
   ]
  },
  {
   "cell_type": "code",
   "execution_count": 7,
   "id": "6078cbf7-1e85-40a6-9a72-76e009a4f2ae",
   "metadata": {},
   "outputs": [
    {
     "data": {
      "text/plain": [
       "array([12,  5, 17])"
      ]
     },
     "execution_count": 7,
     "metadata": {},
     "output_type": "execute_result"
    }
   ],
   "source": [
    "addition = array_1 + array_2\n",
    "addition"
   ]
  },
  {
   "cell_type": "code",
   "execution_count": 8,
   "id": "b4e5bc84-b42e-4114-8c04-618fcb1e23be",
   "metadata": {},
   "outputs": [
    {
     "data": {
      "text/plain": [
       "array([2, 1, 1])"
      ]
     },
     "execution_count": 8,
     "metadata": {},
     "output_type": "execute_result"
    }
   ],
   "source": [
    "subtraction = array_1 - array_2\n",
    "subtraction"
   ]
  },
  {
   "cell_type": "code",
   "execution_count": 9,
   "id": "7b0fced0-7605-4f35-8e50-1ca1155ca225",
   "metadata": {},
   "outputs": [
    {
     "data": {
      "text/plain": [
       "array([35,  6, 72])"
      ]
     },
     "execution_count": 9,
     "metadata": {},
     "output_type": "execute_result"
    }
   ],
   "source": [
    "multiplication = array_1 * array_2\n",
    "multiplication"
   ]
  },
  {
   "cell_type": "code",
   "execution_count": 10,
   "id": "c806e190-e486-467e-bbd4-48c31d22b415",
   "metadata": {},
   "outputs": [
    {
     "data": {
      "text/plain": [
       "array([1.4  , 1.5  , 1.125])"
      ]
     },
     "execution_count": 10,
     "metadata": {},
     "output_type": "execute_result"
    }
   ],
   "source": [
    "division = array_1 / array_2\n",
    "division"
   ]
  },
  {
   "cell_type": "markdown",
   "id": "acefbf4b-3b67-4bb4-97ef-105b10169353",
   "metadata": {},
   "source": [
    "2.2 Calculate the mean, median, and standard deviation of a given 1-\r\n",
    "dimensional array."
   ]
  },
  {
   "cell_type": "code",
   "execution_count": 18,
   "id": "0a84b282-7d63-47ed-b0db-b9bef27812e8",
   "metadata": {},
   "outputs": [
    {
     "data": {
      "text/plain": [
       "array([1, 2, 3, 4, 5, 6, 7, 8])"
      ]
     },
     "execution_count": 18,
     "metadata": {},
     "output_type": "execute_result"
    }
   ],
   "source": [
    "array_1 = np.array(range(1,9))\n",
    "array_1"
   ]
  },
  {
   "cell_type": "code",
   "execution_count": 19,
   "id": "3968e81e-f66b-42b6-9ffb-e7b2f527a5bd",
   "metadata": {},
   "outputs": [
    {
     "data": {
      "text/plain": [
       "4.5"
      ]
     },
     "execution_count": 19,
     "metadata": {},
     "output_type": "execute_result"
    }
   ],
   "source": [
    "mean = np.mean(array_1)\n",
    "mean"
   ]
  },
  {
   "cell_type": "code",
   "execution_count": 20,
   "id": "02186c71-7bbe-4107-8b62-da896d5d0c93",
   "metadata": {},
   "outputs": [
    {
     "data": {
      "text/plain": [
       "4.5"
      ]
     },
     "execution_count": 20,
     "metadata": {},
     "output_type": "execute_result"
    }
   ],
   "source": [
    "median = np.median(array_1)\n",
    "median"
   ]
  },
  {
   "cell_type": "code",
   "execution_count": 21,
   "id": "9c791b67-b1d3-41fc-8343-16f8ac78589f",
   "metadata": {},
   "outputs": [
    {
     "data": {
      "text/plain": [
       "2.29128784747792"
      ]
     },
     "execution_count": 21,
     "metadata": {},
     "output_type": "execute_result"
    }
   ],
   "source": [
    "sd = np.std(array_1)\n",
    "sd"
   ]
  },
  {
   "cell_type": "markdown",
   "id": "d954eb1d-572f-4b3d-9b35-870b6ca3e8f6",
   "metadata": {},
   "source": [
    "2.3 Reshape a 1-dimensional array into a 2-dimensional array of shape (3,\r\n",
    "4)."
   ]
  },
  {
   "cell_type": "code",
   "execution_count": 26,
   "id": "c33b85a7-6921-4359-a740-2a25a868c443",
   "metadata": {},
   "outputs": [
    {
     "data": {
      "text/plain": [
       "array([[0.04969304, 0.85137706, 0.79321343, 0.42064421, 0.07160265,\n",
       "        0.99489767, 0.8310346 , 0.21847978, 0.02659855, 0.79023051,\n",
       "        0.68567983, 0.55376146]])"
      ]
     },
     "execution_count": 26,
     "metadata": {},
     "output_type": "execute_result"
    }
   ],
   "source": [
    "array_1 = np.random.rand(1,12)\n",
    "array_1"
   ]
  },
  {
   "cell_type": "code",
   "execution_count": 27,
   "id": "cc542e18-b980-4698-8510-6c39c6d3b9a3",
   "metadata": {},
   "outputs": [
    {
     "data": {
      "text/plain": [
       "array([[0.04969304, 0.85137706, 0.79321343, 0.42064421],\n",
       "       [0.07160265, 0.99489767, 0.8310346 , 0.21847978],\n",
       "       [0.02659855, 0.79023051, 0.68567983, 0.55376146]])"
      ]
     },
     "execution_count": 27,
     "metadata": {},
     "output_type": "execute_result"
    }
   ],
   "source": [
    "reshape = array_1.reshape(3,4)\n",
    "reshape"
   ]
  },
  {
   "cell_type": "markdown",
   "id": "5a246ba7-719c-4f16-9150-e8ca3f268e29",
   "metadata": {},
   "source": [
    "### 3. Array Indexing and Slicing"
   ]
  },
  {
   "cell_type": "markdown",
   "id": "38634865-0f5c-4a4a-9c66-1f2c6586be49",
   "metadata": {},
   "source": [
    "3.1 Extract the first row and last column of a 2-dimensional array."
   ]
  },
  {
   "cell_type": "code",
   "execution_count": 28,
   "id": "49fbc21c-0540-4cdc-ba6b-71713fcc65ee",
   "metadata": {},
   "outputs": [
    {
     "data": {
      "text/plain": [
       "array([[2, 6, 3],\n",
       "       [7, 2, 9]])"
      ]
     },
     "execution_count": 28,
     "metadata": {},
     "output_type": "execute_result"
    }
   ],
   "source": [
    "twoD = np.array([[2,6,3],[7,2,9]])\n",
    "twoD"
   ]
  },
  {
   "cell_type": "code",
   "execution_count": 34,
   "id": "ab244948-875a-4bb7-8e43-2dd14b990bb2",
   "metadata": {},
   "outputs": [
    {
     "data": {
      "text/plain": [
       "array([2, 6, 3])"
      ]
     },
     "execution_count": 34,
     "metadata": {},
     "output_type": "execute_result"
    }
   ],
   "source": [
    "first_row = twoD[0,:]\n",
    "first_row"
   ]
  },
  {
   "cell_type": "code",
   "execution_count": 35,
   "id": "a02aa958-8ff6-49d5-b904-8f3ea3a75323",
   "metadata": {},
   "outputs": [
    {
     "data": {
      "text/plain": [
       "array([3, 9])"
      ]
     },
     "execution_count": 35,
     "metadata": {},
     "output_type": "execute_result"
    }
   ],
   "source": [
    "last_column = twoD[:,-1]\n",
    "last_column"
   ]
  },
  {
   "cell_type": "markdown",
   "id": "d36feada-2158-40af-9f28-26356241b52b",
   "metadata": {},
   "source": [
    "3.2 Reverse the order of elements in a 1-dimensional array."
   ]
  },
  {
   "cell_type": "code",
   "execution_count": 36,
   "id": "7e5d2991-cc5f-423a-bd0b-f9d5e4e4f757",
   "metadata": {},
   "outputs": [
    {
     "data": {
      "text/plain": [
       "array([1, 2, 3, 4, 5, 6])"
      ]
     },
     "execution_count": 36,
     "metadata": {},
     "output_type": "execute_result"
    }
   ],
   "source": [
    "oneD = np.array(range(1,7))\n",
    "oneD"
   ]
  },
  {
   "cell_type": "code",
   "execution_count": 40,
   "id": "a905e09e-6a42-4c12-af49-157c19050fb3",
   "metadata": {},
   "outputs": [
    {
     "data": {
      "text/plain": [
       "array([6, 5, 4, 3, 2, 1])"
      ]
     },
     "execution_count": 40,
     "metadata": {},
     "output_type": "execute_result"
    }
   ],
   "source": [
    "reverse = oneD[::-1]\n",
    "reverse"
   ]
  },
  {
   "cell_type": "markdown",
   "id": "65648be3-028b-4d12-850d-841d4ee3e6d0",
   "metadata": {},
   "source": [
    "3.3 Select elements from a 2-dimensional array that satisfy a specific\r\n",
    "condition (e.g., values greater than a certain threshold)."
   ]
  },
  {
   "cell_type": "code",
   "execution_count": 41,
   "id": "220b6e13-cb61-4e3f-868b-a6509f371bb3",
   "metadata": {},
   "outputs": [
    {
     "data": {
      "text/plain": [
       "array([0, 1, 2, 3, 4, 5, 6])"
      ]
     },
     "execution_count": 41,
     "metadata": {},
     "output_type": "execute_result"
    }
   ],
   "source": [
    "twoD = np.arange(7)\n",
    "twoD"
   ]
  },
  {
   "cell_type": "code",
   "execution_count": 42,
   "id": "9dcff06d-509c-421c-99a7-7e77d291b506",
   "metadata": {},
   "outputs": [
    {
     "data": {
      "text/plain": [
       "array([5, 6])"
      ]
     },
     "execution_count": 42,
     "metadata": {},
     "output_type": "execute_result"
    }
   ],
   "source": [
    "greater = twoD[twoD >4]\n",
    "greater"
   ]
  },
  {
   "cell_type": "markdown",
   "id": "eb171631-7417-4cd1-95ab-c042c3038820",
   "metadata": {},
   "source": [
    "### Array Broadcasting"
   ]
  },
  {
   "cell_type": "markdown",
   "id": "fceec944-b5b2-4859-9368-373a459b290a",
   "metadata": {},
   "source": [
    "4.1 Add a scalar value to each element of a 2-dimensional array."
   ]
  },
  {
   "cell_type": "code",
   "execution_count": 47,
   "id": "12a8923d-3ea3-4f3d-ab64-61eaea3f7286",
   "metadata": {},
   "outputs": [
    {
     "data": {
      "text/plain": [
       "array([[ 3,  2,  5],\n",
       "       [ 7, 12,  5]])"
      ]
     },
     "execution_count": 47,
     "metadata": {},
     "output_type": "execute_result"
    }
   ],
   "source": [
    "twoD = np.array([[3,2,5],[7,12,5]])\n",
    "twoD"
   ]
  },
  {
   "cell_type": "code",
   "execution_count": 50,
   "id": "99e1bd56-e9bb-44fb-b2e4-88a9d7e8a807",
   "metadata": {},
   "outputs": [
    {
     "data": {
      "text/plain": [
       "array([[13, 12, 15],\n",
       "       [17, 22, 15]])"
      ]
     },
     "execution_count": 50,
     "metadata": {},
     "output_type": "execute_result"
    }
   ],
   "source": [
    "value = 10\n",
    "result = twoD + value\n",
    "result"
   ]
  },
  {
   "cell_type": "markdown",
   "id": "cee63245-52e9-498d-9008-fd8ae44d104f",
   "metadata": {},
   "source": [
    "4.2 Multiply a 1-dimensional array with a 2-dimensional array, leveraging\r\n",
    "NumPy's broadcasting rules."
   ]
  },
  {
   "cell_type": "code",
   "execution_count": 52,
   "id": "14a1c71d-1f7e-443d-9f77-08d51b7347c0",
   "metadata": {},
   "outputs": [
    {
     "data": {
      "text/plain": [
       "array([1, 6, 3])"
      ]
     },
     "execution_count": 52,
     "metadata": {},
     "output_type": "execute_result"
    }
   ],
   "source": [
    "array1 = np.array([1,6,3])\n",
    "array1"
   ]
  },
  {
   "cell_type": "code",
   "execution_count": 53,
   "id": "236db27a-1baf-421a-a03c-589f34a3984d",
   "metadata": {},
   "outputs": [
    {
     "data": {
      "text/plain": [
       "array([[ 5,  3,  2],\n",
       "       [ 9, 12,  6]])"
      ]
     },
     "execution_count": 53,
     "metadata": {},
     "output_type": "execute_result"
    }
   ],
   "source": [
    "array2 = np.array([[5,3,2],[9,12,6]])\n",
    "array2"
   ]
  },
  {
   "cell_type": "code",
   "execution_count": 54,
   "id": "439df50b-db8a-4ef6-aa2f-09dcd625ada4",
   "metadata": {},
   "outputs": [
    {
     "data": {
      "text/plain": [
       "array([[ 5, 18,  6],\n",
       "       [ 9, 72, 18]])"
      ]
     },
     "execution_count": 54,
     "metadata": {},
     "output_type": "execute_result"
    }
   ],
   "source": [
    "multiply = array1 * array2\n",
    "multiply"
   ]
  },
  {
   "cell_type": "markdown",
   "id": "c9e926bb-4830-437a-b639-8ce89b0a1e31",
   "metadata": {},
   "source": [
    "### Linear Algebra"
   ]
  },
  {
   "cell_type": "markdown",
   "id": "20cce60e-81a7-4edf-8451-dce74c3d83f6",
   "metadata": {},
   "source": [
    "5.1 Calculate the dot product of two 1-dimensional arrays."
   ]
  },
  {
   "cell_type": "code",
   "execution_count": 55,
   "id": "4d63e677-948b-4491-a095-818e763091d3",
   "metadata": {},
   "outputs": [
    {
     "data": {
      "text/plain": [
       "array([ 2,  8, 21])"
      ]
     },
     "execution_count": 55,
     "metadata": {},
     "output_type": "execute_result"
    }
   ],
   "source": [
    "array1 = np.array([2,8,21])\n",
    "array1"
   ]
  },
  {
   "cell_type": "code",
   "execution_count": 57,
   "id": "a790250f-a25b-43ad-91da-b329a78fca51",
   "metadata": {},
   "outputs": [
    {
     "data": {
      "text/plain": [
       "array([ 5. , 12.5,  6. ])"
      ]
     },
     "execution_count": 57,
     "metadata": {},
     "output_type": "execute_result"
    }
   ],
   "source": [
    "array2 = np.array([5,12.5,6])\n",
    "array2"
   ]
  },
  {
   "cell_type": "code",
   "execution_count": 63,
   "id": "3ce6c2c2-01c6-406e-9b96-f089e7e57d0a",
   "metadata": {},
   "outputs": [
    {
     "data": {
      "text/plain": [
       "236.0"
      ]
     },
     "execution_count": 63,
     "metadata": {},
     "output_type": "execute_result"
    }
   ],
   "source": [
    "dot_product = array1.dot(array2)\n",
    "dot_product"
   ]
  },
  {
   "cell_type": "markdown",
   "id": "dd57973d-44aa-4e4d-b37e-2d0d75b9ba1c",
   "metadata": {},
   "source": [
    "5.2 Compute the matrix multiplication of two 2-dimensional arrays."
   ]
  },
  {
   "cell_type": "code",
   "execution_count": 64,
   "id": "68b8fb29-cc4d-42ac-b927-8a5962d301cb",
   "metadata": {},
   "outputs": [
    {
     "data": {
      "text/plain": [
       "array([[1, 2],\n",
       "       [3, 4]])"
      ]
     },
     "execution_count": 64,
     "metadata": {},
     "output_type": "execute_result"
    }
   ],
   "source": [
    "array1 = np.array([[1,2],[3,4]])\n",
    "array1"
   ]
  },
  {
   "cell_type": "code",
   "execution_count": 65,
   "id": "8d00c1cb-e808-412c-9dcc-e84beaca6c66",
   "metadata": {},
   "outputs": [
    {
     "data": {
      "text/plain": [
       "matrix([[1, 2],\n",
       "        [3, 4]])"
      ]
     },
     "execution_count": 65,
     "metadata": {},
     "output_type": "execute_result"
    }
   ],
   "source": [
    "mat1 = np.mat(array1)\n",
    "mat1"
   ]
  },
  {
   "cell_type": "code",
   "execution_count": 67,
   "id": "01508b05-cc3f-4e67-a19f-f277e933e0b4",
   "metadata": {},
   "outputs": [
    {
     "data": {
      "text/plain": [
       "array([[5, 6],\n",
       "       [7, 8]])"
      ]
     },
     "execution_count": 67,
     "metadata": {},
     "output_type": "execute_result"
    }
   ],
   "source": [
    "array2 = np.array([[5,6],[7,8]])\n",
    "array2"
   ]
  },
  {
   "cell_type": "code",
   "execution_count": 68,
   "id": "ed6e922f-0f59-4e9b-a8a3-38ea381d0a31",
   "metadata": {},
   "outputs": [
    {
     "data": {
      "text/plain": [
       "matrix([[5, 6],\n",
       "        [7, 8]])"
      ]
     },
     "execution_count": 68,
     "metadata": {},
     "output_type": "execute_result"
    }
   ],
   "source": [
    "mat2 = np.mat(array2)\n",
    "mat2"
   ]
  },
  {
   "cell_type": "code",
   "execution_count": 69,
   "id": "9f5850b2-581a-4991-9e60-8fa0c31dcde5",
   "metadata": {},
   "outputs": [
    {
     "data": {
      "text/plain": [
       "matrix([[19, 22],\n",
       "        [43, 50]])"
      ]
     },
     "execution_count": 69,
     "metadata": {},
     "output_type": "execute_result"
    }
   ],
   "source": [
    "matMul = mat1 * mat2\n",
    "matMul"
   ]
  },
  {
   "cell_type": "markdown",
   "id": "13d2746d-0039-4fb6-84ac-73b7d64b7516",
   "metadata": {},
   "source": [
    "5.3 Find the inverse and determinant of a square matrix."
   ]
  },
  {
   "cell_type": "code",
   "execution_count": 70,
   "id": "fbe32a23-e8d8-4aa0-9239-2b6eb1e60fcf",
   "metadata": {},
   "outputs": [
    {
     "data": {
      "text/plain": [
       "array([[1, 2],\n",
       "       [3, 4]])"
      ]
     },
     "execution_count": 70,
     "metadata": {},
     "output_type": "execute_result"
    }
   ],
   "source": [
    "array1 = np.array([[1,2],[3,4]])\n",
    "array1"
   ]
  },
  {
   "cell_type": "code",
   "execution_count": 71,
   "id": "0c3baf6d-3d05-4b44-9faa-d6e38f24e6b4",
   "metadata": {},
   "outputs": [
    {
     "data": {
      "text/plain": [
       "matrix([[1, 2],\n",
       "        [3, 4]])"
      ]
     },
     "execution_count": 71,
     "metadata": {},
     "output_type": "execute_result"
    }
   ],
   "source": [
    "matrix1 = np.mat(array1)\n",
    "matrix1"
   ]
  },
  {
   "cell_type": "code",
   "execution_count": 73,
   "id": "14cccfb7-b2a0-4e1e-a828-7816a2f3678a",
   "metadata": {},
   "outputs": [
    {
     "data": {
      "text/plain": [
       "-2.0000000000000004"
      ]
     },
     "execution_count": 73,
     "metadata": {},
     "output_type": "execute_result"
    }
   ],
   "source": [
    "determinant = np.linalg.det(matrix1)\n",
    "determinant"
   ]
  },
  {
   "cell_type": "code",
   "execution_count": 74,
   "id": "e670ac47-9f89-4d02-9987-7cd28a9f6c45",
   "metadata": {},
   "outputs": [
    {
     "data": {
      "text/plain": [
       "matrix([[-2. ,  1. ],\n",
       "        [ 1.5, -0.5]])"
      ]
     },
     "execution_count": 74,
     "metadata": {},
     "output_type": "execute_result"
    }
   ],
   "source": [
    "inverse = np.linalg.inv(matrix1)\n",
    "inverse"
   ]
  },
  {
   "cell_type": "code",
   "execution_count": null,
   "id": "6aef472e-c507-4e56-979f-1da8675be061",
   "metadata": {},
   "outputs": [],
   "source": []
  }
 ],
 "metadata": {
  "kernelspec": {
   "display_name": "Python 3 (ipykernel)",
   "language": "python",
   "name": "python3"
  },
  "language_info": {
   "codemirror_mode": {
    "name": "ipython",
    "version": 3
   },
   "file_extension": ".py",
   "mimetype": "text/x-python",
   "name": "python",
   "nbconvert_exporter": "python",
   "pygments_lexer": "ipython3",
   "version": "3.11.7"
  }
 },
 "nbformat": 4,
 "nbformat_minor": 5
}
