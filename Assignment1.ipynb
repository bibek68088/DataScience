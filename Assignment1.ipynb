{
 "cells": [
  {
   "cell_type": "markdown",
   "id": "6ea6b745-5c79-4fc9-9bf8-0e3287bbee34",
   "metadata": {},
   "source": [
    "4. Create a list of your favourite movies and print it. Then, apppend a new movie to the list and print the updated list"
   ]
  },
  {
   "cell_type": "code",
   "execution_count": 1,
   "id": "6f433336-3c66-4b5e-a3bd-8ab06c36879f",
   "metadata": {},
   "outputs": [
    {
     "data": {
      "text/plain": [
       "['Avengers', 'Godfather', 'Passengers', 'Interstellar']"
      ]
     },
     "execution_count": 1,
     "metadata": {},
     "output_type": "execute_result"
    }
   ],
   "source": [
    "list_movies = ['Avengers','Godfather','Passengers','Interstellar'];\n",
    "list_movies"
   ]
  },
  {
   "cell_type": "code",
   "execution_count": 3,
   "id": "a25b22e9-60a7-4df8-a0fe-5cd05bfae639",
   "metadata": {},
   "outputs": [
    {
     "data": {
      "text/plain": [
       "['Avengers', 'Godfather', 'Passengers', 'Interstellar', 'Bad Boyz']"
      ]
     },
     "execution_count": 3,
     "metadata": {},
     "output_type": "execute_result"
    }
   ],
   "source": [
    "list_movies.append('Bad Boyz');\n",
    "list_movies"
   ]
  },
  {
   "cell_type": "markdown",
   "id": "b51add69-1145-4d55-901d-17acaa88825a",
   "metadata": {},
   "source": [
    "5. Create a list of integers from 1 to 10 and print it. Calculate the sum of all the numbers in the list and print the result."
   ]
  },
  {
   "cell_type": "code",
   "execution_count": 12,
   "id": "0edf7c34-8130-4f17-8e94-6335b9c51cb8",
   "metadata": {},
   "outputs": [
    {
     "data": {
      "text/plain": [
       "[1, 2, 3, 4, 5, 6, 7, 8, 9, 10]"
      ]
     },
     "execution_count": 12,
     "metadata": {},
     "output_type": "execute_result"
    }
   ],
   "source": [
    "list_integers = list(range(1,11))\n",
    "list_integers"
   ]
  },
  {
   "cell_type": "code",
   "execution_count": 17,
   "id": "90d80a93-c478-46e6-b69d-c2f1d765078c",
   "metadata": {},
   "outputs": [],
   "source": [
    "sum = 0\n",
    "for elements in range(0,len(list_integers)):\n",
    "    sum = sum + list_integers[elements]"
   ]
  },
  {
   "cell_type": "code",
   "execution_count": 18,
   "id": "0dc5d67b-c7cb-4efb-9700-2ac565ec6b6d",
   "metadata": {},
   "outputs": [
    {
     "name": "stdout",
     "output_type": "stream",
     "text": [
      "Sum of all the numbers in the list:  55\n"
     ]
    }
   ],
   "source": [
    "print(\"Sum of all the numbers in the list: \",sum)"
   ]
  },
  {
   "cell_type": "markdown",
   "id": "a59040d2-7a09-4939-bcc2-889e14ff3bf5",
   "metadata": {},
   "source": [
    "6. Create a list of a mixed data type including strings, integers, and floats and print it. Remove the first element from the list and print the modified list."
   ]
  },
  {
   "cell_type": "code",
   "execution_count": 2,
   "id": "11be7362-fb52-4f5e-92b4-3a4f463d0646",
   "metadata": {},
   "outputs": [
    {
     "data": {
      "text/plain": [
       "[1, 'Bibek', 2, 3.45, 'Zoro', 'Killua', 2.44, 1.11, 10]"
      ]
     },
     "execution_count": 2,
     "metadata": {},
     "output_type": "execute_result"
    }
   ],
   "source": [
    "list_mixed = [1,'Bibek',2,3.45, 'Zoro','Killua',2.44, 1.11, 10]\n",
    "list_mixed"
   ]
  },
  {
   "cell_type": "code",
   "execution_count": 3,
   "id": "fd6929d4-d736-4f68-92d9-c9f170d26007",
   "metadata": {},
   "outputs": [
    {
     "data": {
      "text/plain": [
       "1"
      ]
     },
     "execution_count": 3,
     "metadata": {},
     "output_type": "execute_result"
    }
   ],
   "source": [
    "list_mixed.pop(0)"
   ]
  },
  {
   "cell_type": "code",
   "execution_count": 4,
   "id": "9db55b9f-755d-4f2e-8e8a-9c980c14dd7d",
   "metadata": {},
   "outputs": [
    {
     "name": "stdout",
     "output_type": "stream",
     "text": [
      "['Bibek', 2, 3.45, 'Zoro', 'Killua', 2.44, 1.11, 10]\n"
     ]
    }
   ],
   "source": [
    "print(list_mixed)"
   ]
  },
  {
   "cell_type": "markdown",
   "id": "4683d559-f520-400f-829b-5c1f4dcddd2a",
   "metadata": {},
   "source": [
    "7. Create a tuple containing the names of the days of the week and print it. Access and print the name of the third day."
   ]
  },
  {
   "cell_type": "code",
   "execution_count": 21,
   "id": "bbd5a5bc-9ae1-4a41-a5bd-dafc72bcd1d0",
   "metadata": {},
   "outputs": [
    {
     "data": {
      "text/plain": [
       "('Sunday', 'Monday', 'Tuesday', 'Wednesday', 'Thursday', 'Friday', 'Saturday')"
      ]
     },
     "execution_count": 21,
     "metadata": {},
     "output_type": "execute_result"
    }
   ],
   "source": [
    "tuple_days = ('Sunday','Monday','Tuesday','Wednesday','Thursday','Friday','Saturday')\n",
    "tuple_days"
   ]
  },
  {
   "cell_type": "code",
   "execution_count": 24,
   "id": "677deec2-8716-408f-af4d-f574b8a6de29",
   "metadata": {},
   "outputs": [
    {
     "name": "stdout",
     "output_type": "stream",
     "text": [
      "Tuesday\n"
     ]
    }
   ],
   "source": [
    "print(tuple_days[2])"
   ]
  },
  {
   "cell_type": "markdown",
   "id": "59dc6893-3f3c-44fe-8951-9128b5d5c229",
   "metadata": {},
   "source": [
    "8. Create a tuple of your favorite colors and print it. Check if a certain color is present in the tuple and print the result."
   ]
  },
  {
   "cell_type": "code",
   "execution_count": 25,
   "id": "1e022440-e5ca-45e0-8499-133630a450da",
   "metadata": {},
   "outputs": [
    {
     "data": {
      "text/plain": [
       "('Black', 'White', 'Red', 'Yellow', 'Blue', 'Green', 'Cyan')"
      ]
     },
     "execution_count": 25,
     "metadata": {},
     "output_type": "execute_result"
    }
   ],
   "source": [
    "tuple_colors = ('Black','White','Red','Yellow','Blue','Green','Cyan')\n",
    "tuple_colors"
   ]
  },
  {
   "cell_type": "code",
   "execution_count": 26,
   "id": "419e7b15-af47-4b00-893a-04aad5b7459f",
   "metadata": {},
   "outputs": [
    {
     "name": "stdout",
     "output_type": "stream",
     "text": [
      "Black is present\n"
     ]
    }
   ],
   "source": [
    "if (any('Black' in i for i in tuple_colors)):\n",
    "    print (\"Black is present\")\n",
    "else:\n",
    "    print(\"Black is not present\")"
   ]
  },
  {
   "cell_type": "markdown",
   "id": "896aee3e-fd7d-4d52-9c9d-5cbc75a0ecf7",
   "metadata": {},
   "source": [
    "9. Create a dictionary representing the information of a book with keys \"title\", \"author\", and \"year\" and print it. Update the year of the book and print the updated dictionary."
   ]
  },
  {
   "cell_type": "code",
   "execution_count": 27,
   "id": "82d6a938-b845-45c9-a37a-aa13a8d69e65",
   "metadata": {},
   "outputs": [
    {
     "data": {
      "text/plain": [
       "{'title': 'The Alchemist', 'author': 'Paulo Ceolho', 'year': 2017}"
      ]
     },
     "execution_count": 27,
     "metadata": {},
     "output_type": "execute_result"
    }
   ],
   "source": [
    "dict_book = {'title': 'The Alchemist','author':'Paulo Ceolho','year': 2017}\n",
    "dict_book"
   ]
  },
  {
   "cell_type": "code",
   "execution_count": 28,
   "id": "aafc53d7-b995-4292-9b7a-0894514879f8",
   "metadata": {},
   "outputs": [],
   "source": [
    "dict_book['year'] = 2015"
   ]
  },
  {
   "cell_type": "code",
   "execution_count": 29,
   "id": "3f40f6dd-a155-42d8-bdbe-0e47ddf08f6e",
   "metadata": {},
   "outputs": [
    {
     "name": "stdout",
     "output_type": "stream",
     "text": [
      "{'title': 'The Alchemist', 'author': 'Paulo Ceolho', 'year': 2015}\n"
     ]
    }
   ],
   "source": [
    "print(dict_book)"
   ]
  },
  {
   "cell_type": "markdown",
   "id": "b1176576-5590-4e95-b705-8e4afe48aa56",
   "metadata": {},
   "source": [
    "10. Create a dictonary containing the names of fruits as keys and their corresponding colors as values and print it. Add a new fruit-color pair to the dictionary and print the updated dictionary."
   ]
  },
  {
   "cell_type": "code",
   "execution_count": 30,
   "id": "8ac0fb49-bd14-4265-9429-42ee150f0b0c",
   "metadata": {},
   "outputs": [
    {
     "data": {
      "text/plain": [
       "{'apple': 'red', 'banana': 'yellow', 'grapes': 'green'}"
      ]
     },
     "execution_count": 30,
     "metadata": {},
     "output_type": "execute_result"
    }
   ],
   "source": [
    "dict_fruits = {'apple':'red', 'banana':'yellow','grapes':'green'}\n",
    "dict_fruits"
   ]
  },
  {
   "cell_type": "code",
   "execution_count": 31,
   "id": "61a0aac6-cbf6-42a6-8ad6-83045b45edfd",
   "metadata": {},
   "outputs": [],
   "source": [
    "dict_fruits['orange'] = 'orange'"
   ]
  },
  {
   "cell_type": "code",
   "execution_count": 32,
   "id": "dfcfe66d-3ddb-42d5-842b-81a72f26f900",
   "metadata": {},
   "outputs": [
    {
     "name": "stdout",
     "output_type": "stream",
     "text": [
      "{'apple': 'red', 'banana': 'yellow', 'grapes': 'green', 'orange': 'orange'}\n"
     ]
    }
   ],
   "source": [
    "print(dict_fruits)"
   ]
  },
  {
   "cell_type": "markdown",
   "id": "5a04fd91-00da-4c8a-b409-e0887e35c7e9",
   "metadata": {},
   "source": [
    "11. Create a dictionary representing the population of different cities with keys as city names and values as population numbers and print it. Remove a city from the dictionary and print the modified dictionary."
   ]
  },
  {
   "cell_type": "code",
   "execution_count": 33,
   "id": "03e5e571-3600-45b8-b1e2-48f821fb6da5",
   "metadata": {},
   "outputs": [
    {
     "data": {
      "text/plain": [
       "{'Baneshwor': 10231, 'Patan': 1232, 'Koteshwor': 12131, 'Anamnagar': 12312}"
      ]
     },
     "execution_count": 33,
     "metadata": {},
     "output_type": "execute_result"
    }
   ],
   "source": [
    "dict_population = {'Baneshwor':10231, 'Patan':1232,'Koteshwor': 12131, 'Anamnagar': 12312}\n",
    "dict_population"
   ]
  },
  {
   "cell_type": "code",
   "execution_count": 34,
   "id": "97fd948f-2bea-4ab8-ac5c-fc3e930cf97a",
   "metadata": {},
   "outputs": [],
   "source": [
    "del dict_population['Patan']"
   ]
  },
  {
   "cell_type": "code",
   "execution_count": 35,
   "id": "95d4c4b1-8e3b-4975-ad45-93167d832278",
   "metadata": {},
   "outputs": [
    {
     "name": "stdout",
     "output_type": "stream",
     "text": [
      "{'Baneshwor': 10231, 'Koteshwor': 12131, 'Anamnagar': 12312}\n"
     ]
    }
   ],
   "source": [
    "print(dict_population)"
   ]
  },
  {
   "cell_type": "code",
   "execution_count": null,
   "id": "9e1d2fc1-3ef7-42a5-bf6e-95a53184ad56",
   "metadata": {},
   "outputs": [],
   "source": []
  }
 ],
 "metadata": {
  "kernelspec": {
   "display_name": "Python 3 (ipykernel)",
   "language": "python",
   "name": "python3"
  },
  "language_info": {
   "codemirror_mode": {
    "name": "ipython",
    "version": 3
   },
   "file_extension": ".py",
   "mimetype": "text/x-python",
   "name": "python",
   "nbconvert_exporter": "python",
   "pygments_lexer": "ipython3",
   "version": "3.11.7"
  }
 },
 "nbformat": 4,
 "nbformat_minor": 5
}
